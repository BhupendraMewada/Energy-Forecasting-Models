{
 "cells": [
  {
   "cell_type": "code",
   "execution_count": 1,
   "id": "4465d666-e40e-44b6-9b0f-e6de7c9b3c40",
   "metadata": {},
   "outputs": [],
   "source": [
    "import pandas as pd\n",
    "import numpy as np"
   ]
  },
  {
   "cell_type": "code",
   "execution_count": 2,
   "id": "25e4b219-b632-444b-bfe2-47d1058d3b0c",
   "metadata": {},
   "outputs": [
    {
     "name": "stdout",
     "output_type": "stream",
     "text": [
      "          States Regions   latitude  longitude        Date  Energy Consumption\n",
      "0         Punjab      NR  31.519974  75.980003  02-01-2019               119.9\n",
      "1        Haryana      NR  28.450006  77.019991  02-01-2019               130.3\n",
      "2      Rajasthan      NR  26.449999  74.639981  02-01-2019               234.1\n",
      "3          Delhi      NR  28.669993  77.230004  02-01-2019                85.8\n",
      "4             UP      NR  27.599981  78.050006  02-01-2019               313.9\n",
      "...          ...     ...        ...        ...         ...                 ...\n",
      "16594    Manipur     NER  24.799971  93.950017  05-12-2020                 2.5\n",
      "16595  Meghalaya     NER  25.570492  91.880014  05-12-2020                 5.8\n",
      "16596    Mizoram     NER  23.710399  92.720015  05-12-2020                 1.6\n",
      "16597   Nagaland     NER  25.666998  94.116570  05-12-2020                 2.1\n",
      "16598    Tripura     NER  23.835404  91.279999  05-12-2020                 3.3\n",
      "\n",
      "[16599 rows x 6 columns]\n"
     ]
    }
   ],
   "source": [
    "df = pd.read_csv(r\"C:\\Users\\Dell\\gitproject\\Energy_Demand_Forecasting\\data\\raw\\Energy Consumption dataset.csv\")\n",
    "print(df)"
   ]
  },
  {
   "cell_type": "code",
   "execution_count": 3,
   "id": "25b36947-0d61-4e74-b1f8-485ce68f10fe",
   "metadata": {},
   "outputs": [
    {
     "data": {
      "text/html": [
       "<div>\n",
       "<style scoped>\n",
       "    .dataframe tbody tr th:only-of-type {\n",
       "        vertical-align: middle;\n",
       "    }\n",
       "\n",
       "    .dataframe tbody tr th {\n",
       "        vertical-align: top;\n",
       "    }\n",
       "\n",
       "    .dataframe thead th {\n",
       "        text-align: right;\n",
       "    }\n",
       "</style>\n",
       "<table border=\"1\" class=\"dataframe\">\n",
       "  <thead>\n",
       "    <tr style=\"text-align: right;\">\n",
       "      <th></th>\n",
       "      <th>States</th>\n",
       "      <th>Regions</th>\n",
       "      <th>latitude</th>\n",
       "      <th>longitude</th>\n",
       "      <th>Date</th>\n",
       "      <th>Energy Consumption</th>\n",
       "    </tr>\n",
       "  </thead>\n",
       "  <tbody>\n",
       "    <tr>\n",
       "      <th>16594</th>\n",
       "      <td>Manipur</td>\n",
       "      <td>NER</td>\n",
       "      <td>24.799971</td>\n",
       "      <td>93.950017</td>\n",
       "      <td>05-12-2020</td>\n",
       "      <td>2.5</td>\n",
       "    </tr>\n",
       "    <tr>\n",
       "      <th>16595</th>\n",
       "      <td>Meghalaya</td>\n",
       "      <td>NER</td>\n",
       "      <td>25.570492</td>\n",
       "      <td>91.880014</td>\n",
       "      <td>05-12-2020</td>\n",
       "      <td>5.8</td>\n",
       "    </tr>\n",
       "    <tr>\n",
       "      <th>16596</th>\n",
       "      <td>Mizoram</td>\n",
       "      <td>NER</td>\n",
       "      <td>23.710399</td>\n",
       "      <td>92.720015</td>\n",
       "      <td>05-12-2020</td>\n",
       "      <td>1.6</td>\n",
       "    </tr>\n",
       "    <tr>\n",
       "      <th>16597</th>\n",
       "      <td>Nagaland</td>\n",
       "      <td>NER</td>\n",
       "      <td>25.666998</td>\n",
       "      <td>94.116570</td>\n",
       "      <td>05-12-2020</td>\n",
       "      <td>2.1</td>\n",
       "    </tr>\n",
       "    <tr>\n",
       "      <th>16598</th>\n",
       "      <td>Tripura</td>\n",
       "      <td>NER</td>\n",
       "      <td>23.835404</td>\n",
       "      <td>91.279999</td>\n",
       "      <td>05-12-2020</td>\n",
       "      <td>3.3</td>\n",
       "    </tr>\n",
       "  </tbody>\n",
       "</table>\n",
       "</div>"
      ],
      "text/plain": [
       "          States Regions   latitude  longitude        Date  Energy Consumption\n",
       "16594    Manipur     NER  24.799971  93.950017  05-12-2020                 2.5\n",
       "16595  Meghalaya     NER  25.570492  91.880014  05-12-2020                 5.8\n",
       "16596    Mizoram     NER  23.710399  92.720015  05-12-2020                 1.6\n",
       "16597   Nagaland     NER  25.666998  94.116570  05-12-2020                 2.1\n",
       "16598    Tripura     NER  23.835404  91.279999  05-12-2020                 3.3"
      ]
     },
     "execution_count": 3,
     "metadata": {},
     "output_type": "execute_result"
    }
   ],
   "source": [
    "df.tail()"
   ]
  },
  {
   "cell_type": "code",
   "execution_count": 4,
   "id": "e5c5afb8-9b82-45d8-985f-5ea7d2067323",
   "metadata": {},
   "outputs": [
    {
     "data": {
      "text/html": [
       "<div>\n",
       "<style scoped>\n",
       "    .dataframe tbody tr th:only-of-type {\n",
       "        vertical-align: middle;\n",
       "    }\n",
       "\n",
       "    .dataframe tbody tr th {\n",
       "        vertical-align: top;\n",
       "    }\n",
       "\n",
       "    .dataframe thead th {\n",
       "        text-align: right;\n",
       "    }\n",
       "</style>\n",
       "<table border=\"1\" class=\"dataframe\">\n",
       "  <thead>\n",
       "    <tr style=\"text-align: right;\">\n",
       "      <th></th>\n",
       "      <th>latitude</th>\n",
       "      <th>longitude</th>\n",
       "      <th>Energy Consumption</th>\n",
       "    </tr>\n",
       "  </thead>\n",
       "  <tbody>\n",
       "    <tr>\n",
       "      <th>count</th>\n",
       "      <td>16599.000000</td>\n",
       "      <td>16599.000000</td>\n",
       "      <td>16599.000000</td>\n",
       "    </tr>\n",
       "    <tr>\n",
       "      <th>mean</th>\n",
       "      <td>23.178220</td>\n",
       "      <td>81.794533</td>\n",
       "      <td>103.001862</td>\n",
       "    </tr>\n",
       "    <tr>\n",
       "      <th>std</th>\n",
       "      <td>6.146575</td>\n",
       "      <td>7.258429</td>\n",
       "      <td>116.044056</td>\n",
       "    </tr>\n",
       "    <tr>\n",
       "      <th>min</th>\n",
       "      <td>8.900373</td>\n",
       "      <td>71.192400</td>\n",
       "      <td>0.300000</td>\n",
       "    </tr>\n",
       "    <tr>\n",
       "      <th>25%</th>\n",
       "      <td>19.820430</td>\n",
       "      <td>76.569993</td>\n",
       "      <td>6.700000</td>\n",
       "    </tr>\n",
       "    <tr>\n",
       "      <th>50%</th>\n",
       "      <td>23.835404</td>\n",
       "      <td>78.570026</td>\n",
       "      <td>64.400000</td>\n",
       "    </tr>\n",
       "    <tr>\n",
       "      <th>75%</th>\n",
       "      <td>27.333330</td>\n",
       "      <td>88.329947</td>\n",
       "      <td>173.900000</td>\n",
       "    </tr>\n",
       "    <tr>\n",
       "      <th>max</th>\n",
       "      <td>33.450000</td>\n",
       "      <td>94.216667</td>\n",
       "      <td>522.100000</td>\n",
       "    </tr>\n",
       "  </tbody>\n",
       "</table>\n",
       "</div>"
      ],
      "text/plain": [
       "           latitude     longitude  Energy Consumption\n",
       "count  16599.000000  16599.000000        16599.000000\n",
       "mean      23.178220     81.794533          103.001862\n",
       "std        6.146575      7.258429          116.044056\n",
       "min        8.900373     71.192400            0.300000\n",
       "25%       19.820430     76.569993            6.700000\n",
       "50%       23.835404     78.570026           64.400000\n",
       "75%       27.333330     88.329947          173.900000\n",
       "max       33.450000     94.216667          522.100000"
      ]
     },
     "execution_count": 4,
     "metadata": {},
     "output_type": "execute_result"
    }
   ],
   "source": [
    "df.describe()"
   ]
  },
  {
   "cell_type": "code",
   "execution_count": 5,
   "id": "7567e320-3039-40cc-8c0c-f53d9590f4be",
   "metadata": {},
   "outputs": [
    {
     "name": "stdout",
     "output_type": "stream",
     "text": [
      "<class 'pandas.core.frame.DataFrame'>\n",
      "RangeIndex: 16599 entries, 0 to 16598\n",
      "Data columns (total 6 columns):\n",
      " #   Column              Non-Null Count  Dtype  \n",
      "---  ------              --------------  -----  \n",
      " 0   States              16599 non-null  object \n",
      " 1   Regions             16599 non-null  object \n",
      " 2   latitude            16599 non-null  float64\n",
      " 3   longitude           16599 non-null  float64\n",
      " 4   Date                16599 non-null  object \n",
      " 5   Energy Consumption  16599 non-null  float64\n",
      "dtypes: float64(3), object(3)\n",
      "memory usage: 778.2+ KB\n"
     ]
    }
   ],
   "source": [
    "df.info()"
   ]
  },
  {
   "cell_type": "code",
   "execution_count": 6,
   "id": "db13e2ed-7e9e-489a-a4bc-e0ac512cde7e",
   "metadata": {},
   "outputs": [
    {
     "data": {
      "text/plain": [
       "States\n",
       "Punjab               503\n",
       "Delhi                503\n",
       "UP                   503\n",
       "Uttarakhand          503\n",
       "HP                   503\n",
       "J&K                  503\n",
       "Chandigarh           503\n",
       "Chhattisgarh         503\n",
       "Gujarat              503\n",
       "MP                   503\n",
       "Maharashtra          503\n",
       "Goa                  503\n",
       "DNH                  503\n",
       "Andhra Pradesh       503\n",
       "Haryana              503\n",
       "Rajasthan            503\n",
       "Telangana            503\n",
       "Tamil Nadu           503\n",
       "Pondy                503\n",
       "Bihar                503\n",
       "Jharkhand            503\n",
       "Odisha               503\n",
       "West Bengal          503\n",
       "Sikkim               503\n",
       "Arunachal Pradesh    503\n",
       "Assam                503\n",
       "Manipur              503\n",
       "Meghalaya            503\n",
       "Mizoram              503\n",
       "Nagaland             503\n",
       "Karnataka            503\n",
       "Kerala               503\n",
       "Tripura              503\n",
       "Name: count, dtype: int64"
      ]
     },
     "execution_count": 6,
     "metadata": {},
     "output_type": "execute_result"
    }
   ],
   "source": [
    "df[\"States\"].value_counts().sort_values()"
   ]
  },
  {
   "cell_type": "code",
   "execution_count": 7,
   "id": "be0db858-0ebf-4de9-aa84-02354410572c",
   "metadata": {},
   "outputs": [],
   "source": [
    "#'Date' is datetime\n",
    "df['Date'] = pd.to_datetime(df['Date'] , format='mixed')"
   ]
  },
  {
   "cell_type": "code",
   "execution_count": 8,
   "id": "d5fd1177-61eb-4479-9755-da9707dc4912",
   "metadata": {},
   "outputs": [
    {
     "name": "stdout",
     "output_type": "stream",
     "text": [
      "<class 'pandas.core.frame.DataFrame'>\n",
      "RangeIndex: 16599 entries, 0 to 16598\n",
      "Data columns (total 6 columns):\n",
      " #   Column              Non-Null Count  Dtype         \n",
      "---  ------              --------------  -----         \n",
      " 0   States              16599 non-null  object        \n",
      " 1   Regions             16599 non-null  object        \n",
      " 2   latitude            16599 non-null  float64       \n",
      " 3   longitude           16599 non-null  float64       \n",
      " 4   Date                16599 non-null  datetime64[ns]\n",
      " 5   Energy Consumption  16599 non-null  float64       \n",
      "dtypes: datetime64[ns](1), float64(3), object(2)\n",
      "memory usage: 778.2+ KB\n"
     ]
    }
   ],
   "source": [
    "df.info()"
   ]
  },
  {
   "cell_type": "code",
   "execution_count": 9,
   "id": "09e6c908-6862-46ea-aa03-fb0036eb3995",
   "metadata": {},
   "outputs": [
    {
     "data": {
      "text/html": [
       "<div>\n",
       "<style scoped>\n",
       "    .dataframe tbody tr th:only-of-type {\n",
       "        vertical-align: middle;\n",
       "    }\n",
       "\n",
       "    .dataframe tbody tr th {\n",
       "        vertical-align: top;\n",
       "    }\n",
       "\n",
       "    .dataframe thead th {\n",
       "        text-align: right;\n",
       "    }\n",
       "</style>\n",
       "<table border=\"1\" class=\"dataframe\">\n",
       "  <thead>\n",
       "    <tr style=\"text-align: right;\">\n",
       "      <th></th>\n",
       "      <th>States</th>\n",
       "      <th>Regions</th>\n",
       "      <th>latitude</th>\n",
       "      <th>longitude</th>\n",
       "      <th>Date</th>\n",
       "      <th>Energy Consumption</th>\n",
       "    </tr>\n",
       "  </thead>\n",
       "  <tbody>\n",
       "    <tr>\n",
       "      <th>0</th>\n",
       "      <td>Punjab</td>\n",
       "      <td>NR</td>\n",
       "      <td>31.519974</td>\n",
       "      <td>75.980003</td>\n",
       "      <td>2019-02-01</td>\n",
       "      <td>119.9</td>\n",
       "    </tr>\n",
       "    <tr>\n",
       "      <th>1</th>\n",
       "      <td>Haryana</td>\n",
       "      <td>NR</td>\n",
       "      <td>28.450006</td>\n",
       "      <td>77.019991</td>\n",
       "      <td>2019-02-01</td>\n",
       "      <td>130.3</td>\n",
       "    </tr>\n",
       "    <tr>\n",
       "      <th>2</th>\n",
       "      <td>Rajasthan</td>\n",
       "      <td>NR</td>\n",
       "      <td>26.449999</td>\n",
       "      <td>74.639981</td>\n",
       "      <td>2019-02-01</td>\n",
       "      <td>234.1</td>\n",
       "    </tr>\n",
       "    <tr>\n",
       "      <th>3</th>\n",
       "      <td>Delhi</td>\n",
       "      <td>NR</td>\n",
       "      <td>28.669993</td>\n",
       "      <td>77.230004</td>\n",
       "      <td>2019-02-01</td>\n",
       "      <td>85.8</td>\n",
       "    </tr>\n",
       "    <tr>\n",
       "      <th>4</th>\n",
       "      <td>UP</td>\n",
       "      <td>NR</td>\n",
       "      <td>27.599981</td>\n",
       "      <td>78.050006</td>\n",
       "      <td>2019-02-01</td>\n",
       "      <td>313.9</td>\n",
       "    </tr>\n",
       "  </tbody>\n",
       "</table>\n",
       "</div>"
      ],
      "text/plain": [
       "      States Regions   latitude  longitude       Date  Energy Consumption\n",
       "0     Punjab      NR  31.519974  75.980003 2019-02-01               119.9\n",
       "1    Haryana      NR  28.450006  77.019991 2019-02-01               130.3\n",
       "2  Rajasthan      NR  26.449999  74.639981 2019-02-01               234.1\n",
       "3      Delhi      NR  28.669993  77.230004 2019-02-01                85.8\n",
       "4         UP      NR  27.599981  78.050006 2019-02-01               313.9"
      ]
     },
     "execution_count": 9,
     "metadata": {},
     "output_type": "execute_result"
    }
   ],
   "source": [
    "df.head()"
   ]
  },
  {
   "cell_type": "code",
   "execution_count": 10,
   "id": "63f03175-b6ef-4ae7-a9ee-aa3ec46bbec0",
   "metadata": {},
   "outputs": [],
   "source": [
    "df = df[df['Date'] <= '2020-04-30']\n"
   ]
  },
  {
   "cell_type": "code",
   "execution_count": 11,
   "id": "72453ec5-962a-44eb-8b5d-c2024e530dec",
   "metadata": {},
   "outputs": [
    {
     "name": "stdout",
     "output_type": "stream",
     "text": [
      "<class 'pandas.core.frame.DataFrame'>\n",
      "Index: 15840 entries, 0 to 16565\n",
      "Data columns (total 6 columns):\n",
      " #   Column              Non-Null Count  Dtype         \n",
      "---  ------              --------------  -----         \n",
      " 0   States              15840 non-null  object        \n",
      " 1   Regions             15840 non-null  object        \n",
      " 2   latitude            15840 non-null  float64       \n",
      " 3   longitude           15840 non-null  float64       \n",
      " 4   Date                15840 non-null  datetime64[ns]\n",
      " 5   Energy Consumption  15840 non-null  float64       \n",
      "dtypes: datetime64[ns](1), float64(3), object(2)\n",
      "memory usage: 866.2+ KB\n"
     ]
    }
   ],
   "source": [
    "df.info()"
   ]
  },
  {
   "cell_type": "code",
   "execution_count": 12,
   "id": "2a844660-39cc-4295-9d4b-310fcf54d7a8",
   "metadata": {},
   "outputs": [
    {
     "data": {
      "text/plain": [
       "States                0\n",
       "Regions               0\n",
       "latitude              0\n",
       "longitude             0\n",
       "Date                  0\n",
       "Energy Consumption    0\n",
       "dtype: int64"
      ]
     },
     "execution_count": 12,
     "metadata": {},
     "output_type": "execute_result"
    }
   ],
   "source": [
    "df.isnull().sum()\n"
   ]
  },
  {
   "cell_type": "code",
   "execution_count": 13,
   "id": "0e0f6540-6651-4d3e-a48f-a3c526c7c945",
   "metadata": {},
   "outputs": [
    {
     "data": {
      "text/plain": [
       "12"
      ]
     },
     "execution_count": 13,
     "metadata": {},
     "output_type": "execute_result"
    }
   ],
   "source": [
    "df.duplicated().sum()\n",
    "\n"
   ]
  },
  {
   "cell_type": "code",
   "execution_count": 14,
   "id": "81f0cbbc-d0f7-4935-892f-64e784062cb6",
   "metadata": {},
   "outputs": [],
   "source": [
    "\n",
    "df = df.drop_duplicates()\n"
   ]
  },
  {
   "cell_type": "code",
   "execution_count": 15,
   "id": "5faa8f06-775e-42b5-8581-8d00abda680f",
   "metadata": {},
   "outputs": [
    {
     "data": {
      "text/plain": [
       "0"
      ]
     },
     "execution_count": 15,
     "metadata": {},
     "output_type": "execute_result"
    }
   ],
   "source": [
    "df.duplicated().sum()\n"
   ]
  },
  {
   "cell_type": "code",
   "execution_count": null,
   "id": "f03cf365-2b8e-49c0-a760-be0b1a7a78f6",
   "metadata": {},
   "outputs": [],
   "source": []
  },
  {
   "cell_type": "code",
   "execution_count": 16,
   "id": "b5f12241-8232-4fac-b7b1-cae1dcf5b3f5",
   "metadata": {},
   "outputs": [
    {
     "data": {
      "text/html": [
       "<div>\n",
       "<style scoped>\n",
       "    .dataframe tbody tr th:only-of-type {\n",
       "        vertical-align: middle;\n",
       "    }\n",
       "\n",
       "    .dataframe tbody tr th {\n",
       "        vertical-align: top;\n",
       "    }\n",
       "\n",
       "    .dataframe thead th {\n",
       "        text-align: right;\n",
       "    }\n",
       "</style>\n",
       "<table border=\"1\" class=\"dataframe\">\n",
       "  <thead>\n",
       "    <tr style=\"text-align: right;\">\n",
       "      <th></th>\n",
       "      <th>States</th>\n",
       "      <th>Regions</th>\n",
       "      <th>latitude</th>\n",
       "      <th>longitude</th>\n",
       "      <th>Date</th>\n",
       "      <th>Energy Consumption</th>\n",
       "    </tr>\n",
       "  </thead>\n",
       "  <tbody>\n",
       "    <tr>\n",
       "      <th>0</th>\n",
       "      <td>Punjab</td>\n",
       "      <td>NR</td>\n",
       "      <td>31.519974</td>\n",
       "      <td>75.980003</td>\n",
       "      <td>2019-02-01</td>\n",
       "      <td>119.9</td>\n",
       "    </tr>\n",
       "    <tr>\n",
       "      <th>1</th>\n",
       "      <td>Haryana</td>\n",
       "      <td>NR</td>\n",
       "      <td>28.450006</td>\n",
       "      <td>77.019991</td>\n",
       "      <td>2019-02-01</td>\n",
       "      <td>130.3</td>\n",
       "    </tr>\n",
       "    <tr>\n",
       "      <th>2</th>\n",
       "      <td>Rajasthan</td>\n",
       "      <td>NR</td>\n",
       "      <td>26.449999</td>\n",
       "      <td>74.639981</td>\n",
       "      <td>2019-02-01</td>\n",
       "      <td>234.1</td>\n",
       "    </tr>\n",
       "    <tr>\n",
       "      <th>3</th>\n",
       "      <td>Delhi</td>\n",
       "      <td>NR</td>\n",
       "      <td>28.669993</td>\n",
       "      <td>77.230004</td>\n",
       "      <td>2019-02-01</td>\n",
       "      <td>85.8</td>\n",
       "    </tr>\n",
       "    <tr>\n",
       "      <th>4</th>\n",
       "      <td>UP</td>\n",
       "      <td>NR</td>\n",
       "      <td>27.599981</td>\n",
       "      <td>78.050006</td>\n",
       "      <td>2019-02-01</td>\n",
       "      <td>313.9</td>\n",
       "    </tr>\n",
       "  </tbody>\n",
       "</table>\n",
       "</div>"
      ],
      "text/plain": [
       "      States Regions   latitude  longitude       Date  Energy Consumption\n",
       "0     Punjab      NR  31.519974  75.980003 2019-02-01               119.9\n",
       "1    Haryana      NR  28.450006  77.019991 2019-02-01               130.3\n",
       "2  Rajasthan      NR  26.449999  74.639981 2019-02-01               234.1\n",
       "3      Delhi      NR  28.669993  77.230004 2019-02-01                85.8\n",
       "4         UP      NR  27.599981  78.050006 2019-02-01               313.9"
      ]
     },
     "execution_count": 16,
     "metadata": {},
     "output_type": "execute_result"
    }
   ],
   "source": [
    "df.head()"
   ]
  },
  {
   "cell_type": "code",
   "execution_count": 17,
   "id": "2e8f66bc-c723-4b62-ad8f-13702e00ca02",
   "metadata": {},
   "outputs": [
    {
     "data": {
      "text/plain": [
       "5397      8.900373\n",
       "16485     8.900373\n",
       "3945      8.900373\n",
       "7344      8.900373\n",
       "9720      8.900373\n",
       "           ...    \n",
       "8356     33.450000\n",
       "14527    33.450000\n",
       "2647     33.450000\n",
       "8422     33.450000\n",
       "13603    33.450000\n",
       "Name: latitude, Length: 15828, dtype: float64"
      ]
     },
     "execution_count": 17,
     "metadata": {},
     "output_type": "execute_result"
    }
   ],
   "source": [
    "df['latitude'].sort_values()"
   ]
  },
  {
   "cell_type": "code",
   "execution_count": 18,
   "id": "ebe40cee-d7fa-4d9a-ad2a-278e035d4607",
   "metadata": {},
   "outputs": [
    {
     "data": {
      "text/plain": [
       "<Axes: xlabel='Energy Consumption'>"
      ]
     },
     "execution_count": 18,
     "metadata": {},
     "output_type": "execute_result"
    },
    {
     "data": {
      "image/png": "[encoded data removed]",
      "text/plain": [
       "<Figure size 640x480 with 1 Axes>"
      ]
     },
     "metadata": {},
     "output_type": "display_data"
    }
   ],
   "source": [
    "import seaborn as sns\n",
    "sns.boxplot(data=df, x='Energy Consumption')\n"
   ]
  },
  {
   "cell_type": "code",
   "execution_count": 19,
   "id": "03cad951-81e4-4cf0-876f-96aef1b8cc65",
   "metadata": {},
   "outputs": [],
   "source": [
    "from scipy import stats\n",
    "df['z_score'] = stats.zscore(df['Energy Consumption'])"
   ]
  },
  {
   "cell_type": "code",
   "execution_count": 20,
   "id": "a56b1133-448e-4b40-bb1f-ccfd2b6f1529",
   "metadata": {},
   "outputs": [
    {
     "data": {
      "text/plain": [
       "0        0.144828\n",
       "1        0.234467\n",
       "2        1.129136\n",
       "3       -0.149086\n",
       "4        1.816946\n",
       "           ...   \n",
       "16561   -0.867062\n",
       "16562   -0.839481\n",
       "16563   -0.874819\n",
       "16564   -0.871372\n",
       "16565   -0.860167\n",
       "Name: z_score, Length: 15828, dtype: float64"
      ]
     },
     "execution_count": 20,
     "metadata": {},
     "output_type": "execute_result"
    }
   ],
   "source": [
    "df['z_score']"
   ]
  },
  {
   "cell_type": "code",
   "execution_count": 21,
   "id": "20c8fd2c-0814-4322-ab3f-21ce3e08a40b",
   "metadata": {},
   "outputs": [
    {
     "data": {
      "text/html": [
       "<div>\n",
       "<style scoped>\n",
       "    .dataframe tbody tr th:only-of-type {\n",
       "        vertical-align: middle;\n",
       "    }\n",
       "\n",
       "    .dataframe tbody tr th {\n",
       "        vertical-align: top;\n",
       "    }\n",
       "\n",
       "    .dataframe thead th {\n",
       "        text-align: right;\n",
       "    }\n",
       "</style>\n",
       "<table border=\"1\" class=\"dataframe\">\n",
       "  <thead>\n",
       "    <tr style=\"text-align: right;\">\n",
       "      <th></th>\n",
       "      <th>States</th>\n",
       "      <th>Regions</th>\n",
       "      <th>latitude</th>\n",
       "      <th>longitude</th>\n",
       "      <th>Date</th>\n",
       "      <th>Energy Consumption</th>\n",
       "      <th>z_score</th>\n",
       "    </tr>\n",
       "  </thead>\n",
       "  <tbody>\n",
       "    <tr>\n",
       "      <th>0</th>\n",
       "      <td>Punjab</td>\n",
       "      <td>NR</td>\n",
       "      <td>31.519974</td>\n",
       "      <td>75.980003</td>\n",
       "      <td>2019-02-01</td>\n",
       "      <td>119.9</td>\n",
       "      <td>0.144828</td>\n",
       "    </tr>\n",
       "    <tr>\n",
       "      <th>1</th>\n",
       "      <td>Haryana</td>\n",
       "      <td>NR</td>\n",
       "      <td>28.450006</td>\n",
       "      <td>77.019991</td>\n",
       "      <td>2019-02-01</td>\n",
       "      <td>130.3</td>\n",
       "      <td>0.234467</td>\n",
       "    </tr>\n",
       "    <tr>\n",
       "      <th>2</th>\n",
       "      <td>Rajasthan</td>\n",
       "      <td>NR</td>\n",
       "      <td>26.449999</td>\n",
       "      <td>74.639981</td>\n",
       "      <td>2019-02-01</td>\n",
       "      <td>234.1</td>\n",
       "      <td>1.129136</td>\n",
       "    </tr>\n",
       "    <tr>\n",
       "      <th>3</th>\n",
       "      <td>Delhi</td>\n",
       "      <td>NR</td>\n",
       "      <td>28.669993</td>\n",
       "      <td>77.230004</td>\n",
       "      <td>2019-02-01</td>\n",
       "      <td>85.8</td>\n",
       "      <td>-0.149086</td>\n",
       "    </tr>\n",
       "    <tr>\n",
       "      <th>4</th>\n",
       "      <td>UP</td>\n",
       "      <td>NR</td>\n",
       "      <td>27.599981</td>\n",
       "      <td>78.050006</td>\n",
       "      <td>2019-02-01</td>\n",
       "      <td>313.9</td>\n",
       "      <td>1.816946</td>\n",
       "    </tr>\n",
       "  </tbody>\n",
       "</table>\n",
       "</div>"
      ],
      "text/plain": [
       "      States Regions   latitude  longitude       Date  Energy Consumption  \\\n",
       "0     Punjab      NR  31.519974  75.980003 2019-02-01               119.9   \n",
       "1    Haryana      NR  28.450006  77.019991 2019-02-01               130.3   \n",
       "2  Rajasthan      NR  26.449999  74.639981 2019-02-01               234.1   \n",
       "3      Delhi      NR  28.669993  77.230004 2019-02-01                85.8   \n",
       "4         UP      NR  27.599981  78.050006 2019-02-01               313.9   \n",
       "\n",
       "    z_score  \n",
       "0  0.144828  \n",
       "1  0.234467  \n",
       "2  1.129136  \n",
       "3 -0.149086  \n",
       "4  1.816946  "
      ]
     },
     "execution_count": 21,
     "metadata": {},
     "output_type": "execute_result"
    }
   ],
   "source": [
    "df.head()"
   ]
  },
  {
   "cell_type": "code",
   "execution_count": 45,
   "id": "0e85aed6-1531-4fb7-bdd6-919617bbd1f2",
   "metadata": {},
   "outputs": [],
   "source": [
    "df = df.drop(columns=['z_score'])"
   ]
  },
  {
   "cell_type": "code",
   "execution_count": 47,
   "id": "458f5b38-89ab-4aa1-a637-fbae463dc0ac",
   "metadata": {},
   "outputs": [],
   "source": [
    "df.to_csv(\"Energy Consumption Cleaned.csv\")"
   ]
  },
  {
   "cell_type": "code",
   "execution_count": null,
   "id": "871836d8-267a-4d95-939b-11745a2b964c",
   "metadata": {},
   "outputs": [],
   "source": []
  }
 ],
 "metadata": {
  "kernelspec": {
   "display_name": "Python [conda env:base] *",
   "language": "python",
   "name": "conda-base-py"
  },
  "language_info": {
   "codemirror_mode": {
    "name": "ipython",
    "version": 3
   },
   "file_extension": ".py",
   "mimetype": "text/x-python",
   "name": "python",
   "nbconvert_exporter": "python",
   "pygments_lexer": "ipython3",
   "version": "3.12.7"
  }
 },
 "nbformat": 4,
 "nbformat_minor": 5
}
