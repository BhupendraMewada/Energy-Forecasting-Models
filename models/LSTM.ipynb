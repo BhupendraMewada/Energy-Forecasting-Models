{
 "cells": [
  {
   "cell_type": "code",
   "execution_count": 1,
   "id": "a837dcdb-2d21-4c49-8805-c3d0c7216e54",
   "metadata": {},
   "outputs": [],
   "source": [
    "import numpy as np\n",
    "import pandas as pd\n",
    "import matplotlib.pyplot as plt\n",
    "from sklearn.preprocessing import MinMaxScaler\n",
    "from sklearn.metrics import mean_squared_error, mean_absolute_error, r2_score\n",
    "import tensorflow as tf\n",
    "from tensorflow.keras.models import Sequential\n",
    "from tensorflow.keras.layers import LSTM, Dense, Dropout"
   ]
  },
  {
   "cell_type": "code",
   "execution_count": 9,
   "id": "233014f5-e017-46cf-bfc0-58cae4a73937",
   "metadata": {},
   "outputs": [],
   "source": [
    "df = pd.read_csv(r\"C:\\Users\\Dell\\gitproject\\Energy_Demand_Forecasting\\data\\processed\\Energy Consumption Cleaned.csv\", parse_dates=['Date'])"
   ]
  },
  {
   "cell_type": "code",
   "execution_count": 11,
   "id": "27c3e486-3907-42a3-bb15-d965ec7e8ff2",
   "metadata": {},
   "outputs": [],
   "source": [
    "df.drop('Unnamed: 0', axis=1, inplace=True)"
   ]
  },
  {
   "cell_type": "code",
   "execution_count": 13,
   "id": "3a46b182-df41-4ea5-8690-9f5aebc6004f",
   "metadata": {},
   "outputs": [
    {
     "data": {
      "text/html": [
       "<div>\n",
       "<style scoped>\n",
       "    .dataframe tbody tr th:only-of-type {\n",
       "        vertical-align: middle;\n",
       "    }\n",
       "\n",
       "    .dataframe tbody tr th {\n",
       "        vertical-align: top;\n",
       "    }\n",
       "\n",
       "    .dataframe thead th {\n",
       "        text-align: right;\n",
       "    }\n",
       "</style>\n",
       "<table border=\"1\" class=\"dataframe\">\n",
       "  <thead>\n",
       "    <tr style=\"text-align: right;\">\n",
       "      <th></th>\n",
       "      <th>States</th>\n",
       "      <th>Regions</th>\n",
       "      <th>latitude</th>\n",
       "      <th>longitude</th>\n",
       "      <th>Date</th>\n",
       "      <th>Energy Consumption</th>\n",
       "    </tr>\n",
       "  </thead>\n",
       "  <tbody>\n",
       "    <tr>\n",
       "      <th>0</th>\n",
       "      <td>Punjab</td>\n",
       "      <td>NR</td>\n",
       "      <td>31.519974</td>\n",
       "      <td>75.980003</td>\n",
       "      <td>2019-02-01</td>\n",
       "      <td>119.9</td>\n",
       "    </tr>\n",
       "    <tr>\n",
       "      <th>1</th>\n",
       "      <td>Haryana</td>\n",
       "      <td>NR</td>\n",
       "      <td>28.450006</td>\n",
       "      <td>77.019991</td>\n",
       "      <td>2019-02-01</td>\n",
       "      <td>130.3</td>\n",
       "    </tr>\n",
       "    <tr>\n",
       "      <th>2</th>\n",
       "      <td>Rajasthan</td>\n",
       "      <td>NR</td>\n",
       "      <td>26.449999</td>\n",
       "      <td>74.639981</td>\n",
       "      <td>2019-02-01</td>\n",
       "      <td>234.1</td>\n",
       "    </tr>\n",
       "    <tr>\n",
       "      <th>3</th>\n",
       "      <td>Delhi</td>\n",
       "      <td>NR</td>\n",
       "      <td>28.669993</td>\n",
       "      <td>77.230004</td>\n",
       "      <td>2019-02-01</td>\n",
       "      <td>85.8</td>\n",
       "    </tr>\n",
       "    <tr>\n",
       "      <th>4</th>\n",
       "      <td>UP</td>\n",
       "      <td>NR</td>\n",
       "      <td>27.599981</td>\n",
       "      <td>78.050006</td>\n",
       "      <td>2019-02-01</td>\n",
       "      <td>313.9</td>\n",
       "    </tr>\n",
       "  </tbody>\n",
       "</table>\n",
       "</div>"
      ],
      "text/plain": [
       "      States Regions   latitude  longitude       Date  Energy Consumption\n",
       "0     Punjab      NR  31.519974  75.980003 2019-02-01               119.9\n",
       "1    Haryana      NR  28.450006  77.019991 2019-02-01               130.3\n",
       "2  Rajasthan      NR  26.449999  74.639981 2019-02-01               234.1\n",
       "3      Delhi      NR  28.669993  77.230004 2019-02-01                85.8\n",
       "4         UP      NR  27.599981  78.050006 2019-02-01               313.9"
      ]
     },
     "execution_count": 13,
     "metadata": {},
     "output_type": "execute_result"
    }
   ],
   "source": [
    "df.head()"
   ]
  },
  {
   "cell_type": "code",
   "execution_count": 17,
   "id": "4487241a-62df-453c-ad53-a7692461b662",
   "metadata": {},
   "outputs": [
    {
     "name": "stdout",
     "output_type": "stream",
     "text": [
      "Number of duplicates: 153\n"
     ]
    }
   ],
   "source": [
    "print(\"Number of duplicates:\", df.duplicated(subset=['Date', 'States']).sum())\n"
   ]
  },
  {
   "cell_type": "code",
   "execution_count": 19,
   "id": "fd6c448b-2da2-452e-a7a1-6732d8669f9d",
   "metadata": {},
   "outputs": [],
   "source": [
    "df_agg = df.groupby(['Date', 'States'], as_index=False)['Energy Consumption'].mean()\n"
   ]
  },
  {
   "cell_type": "code",
   "execution_count": 21,
   "id": "3b244a13-cde2-4340-af36-a7372f675592",
   "metadata": {},
   "outputs": [],
   "source": [
    "df_wide = df_agg.pivot(index='Date', columns='States', values='Energy Consumption')\n"
   ]
  },
  {
   "cell_type": "code",
   "execution_count": 23,
   "id": "2d5c1872-837e-489d-bfc9-f9afa49252c5",
   "metadata": {},
   "outputs": [
    {
     "name": "stdout",
     "output_type": "stream",
     "text": [
      "States      Andhra Pradesh  Arunachal Pradesh  Assam  Bihar  Chandigarh  \\\n",
      "Date                                                                      \n",
      "2019-01-07           164.3                2.3   34.2  104.7         4.8   \n",
      "2019-01-08           197.0                2.4   32.7  106.4         5.5   \n",
      "2019-01-09           153.8                2.3   36.1   96.1         5.4   \n",
      "2019-01-10           155.4                1.9   30.2   88.1         3.9   \n",
      "2019-01-11           154.9                1.5   19.2   82.8         2.4   \n",
      "\n",
      "States      Chhattisgarh   DNH  Delhi   Goa  Gujarat  ...  Pondy  Punjab  \\\n",
      "Date                                                  ...                  \n",
      "2019-01-07          94.5  18.9  103.8  11.7    300.2  ...    7.5   163.9   \n",
      "2019-01-08          87.9  17.8   99.3  11.5    316.1  ...    9.2   206.1   \n",
      "2019-01-09          95.8  18.4  113.9  11.5    320.2  ...    7.4   224.0   \n",
      "2019-01-10          78.2  18.2   80.7  10.3    362.1  ...    6.9   118.9   \n",
      "2019-01-11          78.2   2.2   52.4   7.1    249.5  ...    4.5    78.2   \n",
      "\n",
      "States      Rajasthan  Sikkim  Tamil Nadu  Telangana  Tripura     UP  \\\n",
      "Date                                                                   \n",
      "2019-01-07      180.9     0.9       282.0      217.8      4.9  379.4   \n",
      "2019-01-08      223.7     1.2       354.1      171.0      5.7  384.1   \n",
      "2019-01-09      240.5     1.1       277.0      167.1      5.8  350.6   \n",
      "2019-01-10      208.4     0.9       264.2      147.6      4.6  316.5   \n",
      "2019-01-11      159.5     0.9       228.2      167.8      3.1  271.0   \n",
      "\n",
      "States      Uttarakhand  West Bengal  \n",
      "Date                                  \n",
      "2019-01-07         33.9        151.8  \n",
      "2019-01-08         42.6        176.5  \n",
      "2019-01-09         40.2        172.8  \n",
      "2019-01-10         34.9        164.8  \n",
      "2019-01-11         20.1        130.3  \n",
      "\n",
      "[5 rows x 33 columns]\n"
     ]
    }
   ],
   "source": [
    "print(df_wide.head())\n"
   ]
  },
  {
   "cell_type": "code",
   "execution_count": 39,
   "id": "76d0d8e5-f439-4174-9b15-4e857ea55052",
   "metadata": {},
   "outputs": [
    {
     "data": {
      "text/html": [
       "<div>\n",
       "<style scoped>\n",
       "    .dataframe tbody tr th:only-of-type {\n",
       "        vertical-align: middle;\n",
       "    }\n",
       "\n",
       "    .dataframe tbody tr th {\n",
       "        vertical-align: top;\n",
       "    }\n",
       "\n",
       "    .dataframe thead th {\n",
       "        text-align: right;\n",
       "    }\n",
       "</style>\n",
       "<table border=\"1\" class=\"dataframe\">\n",
       "  <thead>\n",
       "    <tr style=\"text-align: right;\">\n",
       "      <th></th>\n",
       "      <th>Andhra Pradesh</th>\n",
       "      <th>Arunachal Pradesh</th>\n",
       "      <th>Assam</th>\n",
       "      <th>Bihar</th>\n",
       "      <th>Chandigarh</th>\n",
       "      <th>Chhattisgarh</th>\n",
       "      <th>DNH</th>\n",
       "      <th>Delhi</th>\n",
       "      <th>Goa</th>\n",
       "      <th>Gujarat</th>\n",
       "      <th>...</th>\n",
       "      <th>Pondy</th>\n",
       "      <th>Punjab</th>\n",
       "      <th>Rajasthan</th>\n",
       "      <th>Sikkim</th>\n",
       "      <th>Tamil Nadu</th>\n",
       "      <th>Telangana</th>\n",
       "      <th>Tripura</th>\n",
       "      <th>UP</th>\n",
       "      <th>Uttarakhand</th>\n",
       "      <th>West Bengal</th>\n",
       "    </tr>\n",
       "    <tr>\n",
       "      <th>Date</th>\n",
       "      <th></th>\n",
       "      <th></th>\n",
       "      <th></th>\n",
       "      <th></th>\n",
       "      <th></th>\n",
       "      <th></th>\n",
       "      <th></th>\n",
       "      <th></th>\n",
       "      <th></th>\n",
       "      <th></th>\n",
       "      <th></th>\n",
       "      <th></th>\n",
       "      <th></th>\n",
       "      <th></th>\n",
       "      <th></th>\n",
       "      <th></th>\n",
       "      <th></th>\n",
       "      <th></th>\n",
       "      <th></th>\n",
       "      <th></th>\n",
       "      <th></th>\n",
       "    </tr>\n",
       "  </thead>\n",
       "  <tbody>\n",
       "    <tr>\n",
       "      <th>2019-01-07</th>\n",
       "      <td>0.452349</td>\n",
       "      <td>0.785714</td>\n",
       "      <td>0.852713</td>\n",
       "      <td>0.785623</td>\n",
       "      <td>0.500000</td>\n",
       "      <td>0.770161</td>\n",
       "      <td>0.967033</td>\n",
       "      <td>0.588794</td>\n",
       "      <td>0.705128</td>\n",
       "      <td>0.517506</td>\n",
       "      <td>...</td>\n",
       "      <td>0.614035</td>\n",
       "      <td>0.441984</td>\n",
       "      <td>0.436121</td>\n",
       "      <td>0.24</td>\n",
       "      <td>0.508544</td>\n",
       "      <td>0.694511</td>\n",
       "      <td>0.595238</td>\n",
       "      <td>0.675789</td>\n",
       "      <td>0.469780</td>\n",
       "      <td>0.682313</td>\n",
       "    </tr>\n",
       "    <tr>\n",
       "      <th>2019-01-08</th>\n",
       "      <td>0.891275</td>\n",
       "      <td>0.857143</td>\n",
       "      <td>0.794574</td>\n",
       "      <td>0.807445</td>\n",
       "      <td>0.634615</td>\n",
       "      <td>0.681452</td>\n",
       "      <td>0.906593</td>\n",
       "      <td>0.546059</td>\n",
       "      <td>0.679487</td>\n",
       "      <td>0.593765</td>\n",
       "      <td>...</td>\n",
       "      <td>0.912281</td>\n",
       "      <td>0.615006</td>\n",
       "      <td>0.684669</td>\n",
       "      <td>0.36</td>\n",
       "      <td>0.933412</td>\n",
       "      <td>0.322196</td>\n",
       "      <td>0.785714</td>\n",
       "      <td>0.692281</td>\n",
       "      <td>0.708791</td>\n",
       "      <td>0.850340</td>\n",
       "    </tr>\n",
       "    <tr>\n",
       "      <th>2019-01-09</th>\n",
       "      <td>0.311409</td>\n",
       "      <td>0.785714</td>\n",
       "      <td>0.926357</td>\n",
       "      <td>0.675225</td>\n",
       "      <td>0.615385</td>\n",
       "      <td>0.787634</td>\n",
       "      <td>0.939560</td>\n",
       "      <td>0.684710</td>\n",
       "      <td>0.679487</td>\n",
       "      <td>0.613429</td>\n",
       "      <td>...</td>\n",
       "      <td>0.596491</td>\n",
       "      <td>0.688397</td>\n",
       "      <td>0.782230</td>\n",
       "      <td>0.32</td>\n",
       "      <td>0.479081</td>\n",
       "      <td>0.291169</td>\n",
       "      <td>0.809524</td>\n",
       "      <td>0.574737</td>\n",
       "      <td>0.642857</td>\n",
       "      <td>0.825170</td>\n",
       "    </tr>\n",
       "    <tr>\n",
       "      <th>2019-01-10</th>\n",
       "      <td>0.332886</td>\n",
       "      <td>0.500000</td>\n",
       "      <td>0.697674</td>\n",
       "      <td>0.572529</td>\n",
       "      <td>0.326923</td>\n",
       "      <td>0.551075</td>\n",
       "      <td>0.928571</td>\n",
       "      <td>0.369421</td>\n",
       "      <td>0.525641</td>\n",
       "      <td>0.814388</td>\n",
       "      <td>...</td>\n",
       "      <td>0.508772</td>\n",
       "      <td>0.257483</td>\n",
       "      <td>0.595819</td>\n",
       "      <td>0.24</td>\n",
       "      <td>0.403654</td>\n",
       "      <td>0.136038</td>\n",
       "      <td>0.523810</td>\n",
       "      <td>0.455088</td>\n",
       "      <td>0.497253</td>\n",
       "      <td>0.770748</td>\n",
       "    </tr>\n",
       "    <tr>\n",
       "      <th>2019-01-11</th>\n",
       "      <td>0.326174</td>\n",
       "      <td>0.214286</td>\n",
       "      <td>0.271318</td>\n",
       "      <td>0.504493</td>\n",
       "      <td>0.038462</td>\n",
       "      <td>0.551075</td>\n",
       "      <td>0.049451</td>\n",
       "      <td>0.100665</td>\n",
       "      <td>0.115385</td>\n",
       "      <td>0.274341</td>\n",
       "      <td>...</td>\n",
       "      <td>0.087719</td>\n",
       "      <td>0.090611</td>\n",
       "      <td>0.311847</td>\n",
       "      <td>0.24</td>\n",
       "      <td>0.191514</td>\n",
       "      <td>0.296738</td>\n",
       "      <td>0.166667</td>\n",
       "      <td>0.295439</td>\n",
       "      <td>0.090659</td>\n",
       "      <td>0.536054</td>\n",
       "    </tr>\n",
       "  </tbody>\n",
       "</table>\n",
       "<p>5 rows × 33 columns</p>\n",
       "</div>"
      ],
      "text/plain": [
       "            Andhra Pradesh  Arunachal Pradesh     Assam     Bihar  Chandigarh  \\\n",
       "Date                                                                            \n",
       "2019-01-07        0.452349           0.785714  0.852713  0.785623    0.500000   \n",
       "2019-01-08        0.891275           0.857143  0.794574  0.807445    0.634615   \n",
       "2019-01-09        0.311409           0.785714  0.926357  0.675225    0.615385   \n",
       "2019-01-10        0.332886           0.500000  0.697674  0.572529    0.326923   \n",
       "2019-01-11        0.326174           0.214286  0.271318  0.504493    0.038462   \n",
       "\n",
       "            Chhattisgarh       DNH     Delhi       Goa   Gujarat  ...  \\\n",
       "Date                                                              ...   \n",
       "2019-01-07      0.770161  0.967033  0.588794  0.705128  0.517506  ...   \n",
       "2019-01-08      0.681452  0.906593  0.546059  0.679487  0.593765  ...   \n",
       "2019-01-09      0.787634  0.939560  0.684710  0.679487  0.613429  ...   \n",
       "2019-01-10      0.551075  0.928571  0.369421  0.525641  0.814388  ...   \n",
       "2019-01-11      0.551075  0.049451  0.100665  0.115385  0.274341  ...   \n",
       "\n",
       "               Pondy    Punjab  Rajasthan  Sikkim  Tamil Nadu  Telangana  \\\n",
       "Date                                                                       \n",
       "2019-01-07  0.614035  0.441984   0.436121    0.24    0.508544   0.694511   \n",
       "2019-01-08  0.912281  0.615006   0.684669    0.36    0.933412   0.322196   \n",
       "2019-01-09  0.596491  0.688397   0.782230    0.32    0.479081   0.291169   \n",
       "2019-01-10  0.508772  0.257483   0.595819    0.24    0.403654   0.136038   \n",
       "2019-01-11  0.087719  0.090611   0.311847    0.24    0.191514   0.296738   \n",
       "\n",
       "             Tripura        UP  Uttarakhand  West Bengal  \n",
       "Date                                                      \n",
       "2019-01-07  0.595238  0.675789     0.469780     0.682313  \n",
       "2019-01-08  0.785714  0.692281     0.708791     0.850340  \n",
       "2019-01-09  0.809524  0.574737     0.642857     0.825170  \n",
       "2019-01-10  0.523810  0.455088     0.497253     0.770748  \n",
       "2019-01-11  0.166667  0.295439     0.090659     0.536054  \n",
       "\n",
       "[5 rows x 33 columns]"
      ]
     },
     "execution_count": 39,
     "metadata": {},
     "output_type": "execute_result"
    }
   ],
   "source": [
    "scalers = {}\n",
    "scaled_data = pd.DataFrame(index=df_wide.index)\n",
    "\n",
    "for state in df_wide.columns:\n",
    "    scaler = MinMaxScaler()\n",
    "    scaled_values = scaler.fit_transform(df_wide[state].values.reshape(-1, 1))\n",
    "    scaled_data[state] = scaled_values.flatten()\n",
    "    scalers[state] = scaler\n",
    "\n",
    "scaled_data.head()\n"
   ]
  },
  {
   "cell_type": "code",
   "execution_count": 29,
   "id": "abda8a28-f179-4263-abb3-d4801b0401c9",
   "metadata": {},
   "outputs": [],
   "source": [
    "def create_sequences(data, seq_length=30):\n",
    "    \"\"\"\n",
    "    Prepare input sequences and corresponding targets for LSTM.\n",
    "    \n",
    "    Parameters:\n",
    "        data (1D numpy array): Scaled time series data.\n",
    "        seq_length (int): Number of time steps in input sequence.\n",
    "    \n",
    "    Returns:\n",
    "        X (numpy array): Input sequences (samples, seq_length).\n",
    "        y (numpy array): Target values (samples, ).\n",
    "    \"\"\"\n",
    "    X, y = [], []\n",
    "    for i in range(len(data) - seq_length):\n",
    "        X.append(data[i:i+seq_length])\n",
    "        y.append(data[i+seq_length])\n",
    "    return np.array(X), np.array(y)\n"
   ]
  },
  {
   "cell_type": "markdown",
   "id": "adb429bd-f1bd-47c4-a874-15474a5bbc1d",
   "metadata": {},
   "source": [
    "## Train and Evaluate LSTM Model for Each State\n",
    "- Using past 30 days to predict next day\n",
    "- 80% train, 20% test split\n",
    "- Metrics: RMSE, MAE, R²\n"
   ]
  },
  {
   "cell_type": "code",
   "execution_count": 42,
   "id": "4b287b81-9d8d-4669-b888-cf6f8ae251bd",
   "metadata": {},
   "outputs": [
    {
     "name": "stderr",
     "output_type": "stream",
     "text": [
      "C:\\Users\\Dell\\anaconda3\\Lib\\site-packages\\keras\\src\\layers\\rnn\\rnn.py:200: UserWarning: Do not pass an `input_shape`/`input_dim` argument to a layer. When using Sequential models, prefer using an `Input(shape)` object as the first layer in the model instead.\n",
      "  super().__init__(**kwargs)\n"
     ]
    },
    {
     "name": "stdout",
     "output_type": "stream",
     "text": [
      "\u001b[1m3/3\u001b[0m \u001b[32m━━━━━━━━━━━━━━━━━━━━\u001b[0m\u001b[37m\u001b[0m \u001b[1m1s\u001b[0m 251ms/step\n"
     ]
    },
    {
     "data": {
      "image/png": "[encoded data removed]",
      "text/plain": [
       "<Figure size 1200x600 with 1 Axes>"
      ]
     },
     "metadata": {},
     "output_type": "display_data"
    },
    {
     "name": "stderr",
     "output_type": "stream",
     "text": [
      "C:\\Users\\Dell\\anaconda3\\Lib\\site-packages\\keras\\src\\layers\\rnn\\rnn.py:200: UserWarning: Do not pass an `input_shape`/`input_dim` argument to a layer. When using Sequential models, prefer using an `Input(shape)` object as the first layer in the model instead.\n",
      "  super().__init__(**kwargs)\n"
     ]
    },
    {
     "name": "stdout",
     "output_type": "stream",
     "text": [
      "\u001b[1m3/3\u001b[0m \u001b[32m━━━━━━━━━━━━━━━━━━━━\u001b[0m\u001b[37m\u001b[0m \u001b[1m1s\u001b[0m 168ms/step\n"
     ]
    },
    {
     "name": "stderr",
     "output_type": "stream",
     "text": [
      "C:\\Users\\Dell\\anaconda3\\Lib\\site-packages\\keras\\src\\layers\\rnn\\rnn.py:200: UserWarning: Do not pass an `input_shape`/`input_dim` argument to a layer. When using Sequential models, prefer using an `Input(shape)` object as the first layer in the model instead.\n",
      "  super().__init__(**kwargs)\n"
     ]
    },
    {
     "name": "stdout",
     "output_type": "stream",
     "text": [
      "WARNING:tensorflow:5 out of the last 7 calls to <function TensorFlowTrainer.make_predict_function.<locals>.one_step_on_data_distributed at 0x000002721B7D9D00> triggered tf.function retracing. Tracing is expensive and the excessive number of tracings could be due to (1) creating @tf.function repeatedly in a loop, (2) passing tensors with different shapes, (3) passing Python objects instead of tensors. For (1), please define your @tf.function outside of the loop. For (2), @tf.function has reduce_retracing=True option that can avoid unnecessary retracing. For (3), please refer to https://www.tensorflow.org/guide/function#controlling_retracing and https://www.tensorflow.org/api_docs/python/tf/function for  more details.\n",
      "\u001b[1m1/3\u001b[0m \u001b[32m━━━━━━\u001b[0m\u001b[37m━━━━━━━━━━━━━━\u001b[0m \u001b[1m0s\u001b[0m 302ms/stepWARNING:tensorflow:6 out of the last 9 calls to <function TensorFlowTrainer.make_predict_function.<locals>.one_step_on_data_distributed at 0x000002721B7D9D00> triggered tf.function retracing. Tracing is expensive and the excessive number of tracings could be due to (1) creating @tf.function repeatedly in a loop, (2) passing tensors with different shapes, (3) passing Python objects instead of tensors. For (1), please define your @tf.function outside of the loop. For (2), @tf.function has reduce_retracing=True option that can avoid unnecessary retracing. For (3), please refer to https://www.tensorflow.org/guide/function#controlling_retracing and https://www.tensorflow.org/api_docs/python/tf/function for  more details.\n",
      "\u001b[1m3/3\u001b[0m \u001b[32m━━━━━━━━━━━━━━━━━━━━\u001b[0m\u001b[37m\u001b[0m \u001b[1m1s\u001b[0m 221ms/step\n"
     ]
    },
    {
     "name": "stderr",
     "output_type": "stream",
     "text": [
      "C:\\Users\\Dell\\anaconda3\\Lib\\site-packages\\keras\\src\\layers\\rnn\\rnn.py:200: UserWarning: Do not pass an `input_shape`/`input_dim` argument to a layer. When using Sequential models, prefer using an `Input(shape)` object as the first layer in the model instead.\n",
      "  super().__init__(**kwargs)\n"
     ]
    },
    {
     "name": "stdout",
     "output_type": "stream",
     "text": [
      "\u001b[1m3/3\u001b[0m \u001b[32m━━━━━━━━━━━━━━━━━━━━\u001b[0m\u001b[37m\u001b[0m \u001b[1m1s\u001b[0m 211ms/step\n"
     ]
    },
    {
     "name": "stderr",
     "output_type": "stream",
     "text": [
      "C:\\Users\\Dell\\anaconda3\\Lib\\site-packages\\keras\\src\\layers\\rnn\\rnn.py:200: UserWarning: Do not pass an `input_shape`/`input_dim` argument to a layer. When using Sequential models, prefer using an `Input(shape)` object as the first layer in the model instead.\n",
      "  super().__init__(**kwargs)\n"
     ]
    },
    {
     "name": "stdout",
     "output_type": "stream",
     "text": [
      "\u001b[1m3/3\u001b[0m \u001b[32m━━━━━━━━━━━━━━━━━━━━\u001b[0m\u001b[37m\u001b[0m \u001b[1m1s\u001b[0m 155ms/step\n"
     ]
    },
    {
     "name": "stderr",
     "output_type": "stream",
     "text": [
      "C:\\Users\\Dell\\anaconda3\\Lib\\site-packages\\keras\\src\\layers\\rnn\\rnn.py:200: UserWarning: Do not pass an `input_shape`/`input_dim` argument to a layer. When using Sequential models, prefer using an `Input(shape)` object as the first layer in the model instead.\n",
      "  super().__init__(**kwargs)\n"
     ]
    },
    {
     "name": "stdout",
     "output_type": "stream",
     "text": [
      "\u001b[1m3/3\u001b[0m \u001b[32m━━━━━━━━━━━━━━━━━━━━\u001b[0m\u001b[37m\u001b[0m \u001b[1m1s\u001b[0m 154ms/step\n"
     ]
    },
    {
     "name": "stderr",
     "output_type": "stream",
     "text": [
      "C:\\Users\\Dell\\anaconda3\\Lib\\site-packages\\keras\\src\\layers\\rnn\\rnn.py:200: UserWarning: Do not pass an `input_shape`/`input_dim` argument to a layer. When using Sequential models, prefer using an `Input(shape)` object as the first layer in the model instead.\n",
      "  super().__init__(**kwargs)\n"
     ]
    },
    {
     "name": "stdout",
     "output_type": "stream",
     "text": [
      "\u001b[1m3/3\u001b[0m \u001b[32m━━━━━━━━━━━━━━━━━━━━\u001b[0m\u001b[37m\u001b[0m \u001b[1m1s\u001b[0m 194ms/step\n"
     ]
    },
    {
     "name": "stderr",
     "output_type": "stream",
     "text": [
      "C:\\Users\\Dell\\anaconda3\\Lib\\site-packages\\keras\\src\\layers\\rnn\\rnn.py:200: UserWarning: Do not pass an `input_shape`/`input_dim` argument to a layer. When using Sequential models, prefer using an `Input(shape)` object as the first layer in the model instead.\n",
      "  super().__init__(**kwargs)\n"
     ]
    },
    {
     "name": "stdout",
     "output_type": "stream",
     "text": [
      "\u001b[1m3/3\u001b[0m \u001b[32m━━━━━━━━━━━━━━━━━━━━\u001b[0m\u001b[37m\u001b[0m \u001b[1m1s\u001b[0m 212ms/step\n"
     ]
    },
    {
     "name": "stderr",
     "output_type": "stream",
     "text": [
      "C:\\Users\\Dell\\anaconda3\\Lib\\site-packages\\keras\\src\\layers\\rnn\\rnn.py:200: UserWarning: Do not pass an `input_shape`/`input_dim` argument to a layer. When using Sequential models, prefer using an `Input(shape)` object as the first layer in the model instead.\n",
      "  super().__init__(**kwargs)\n"
     ]
    },
    {
     "name": "stdout",
     "output_type": "stream",
     "text": [
      "\u001b[1m3/3\u001b[0m \u001b[32m━━━━━━━━━━━━━━━━━━━━\u001b[0m\u001b[37m\u001b[0m \u001b[1m1s\u001b[0m 235ms/step\n"
     ]
    },
    {
     "name": "stderr",
     "output_type": "stream",
     "text": [
      "C:\\Users\\Dell\\anaconda3\\Lib\\site-packages\\keras\\src\\layers\\rnn\\rnn.py:200: UserWarning: Do not pass an `input_shape`/`input_dim` argument to a layer. When using Sequential models, prefer using an `Input(shape)` object as the first layer in the model instead.\n",
      "  super().__init__(**kwargs)\n"
     ]
    },
    {
     "name": "stdout",
     "output_type": "stream",
     "text": [
      "\u001b[1m3/3\u001b[0m \u001b[32m━━━━━━━━━━━━━━━━━━━━\u001b[0m\u001b[37m\u001b[0m \u001b[1m1s\u001b[0m 212ms/step\n"
     ]
    },
    {
     "name": "stderr",
     "output_type": "stream",
     "text": [
      "C:\\Users\\Dell\\anaconda3\\Lib\\site-packages\\keras\\src\\layers\\rnn\\rnn.py:200: UserWarning: Do not pass an `input_shape`/`input_dim` argument to a layer. When using Sequential models, prefer using an `Input(shape)` object as the first layer in the model instead.\n",
      "  super().__init__(**kwargs)\n"
     ]
    },
    {
     "name": "stdout",
     "output_type": "stream",
     "text": [
      "\u001b[1m3/3\u001b[0m \u001b[32m━━━━━━━━━━━━━━━━━━━━\u001b[0m\u001b[37m\u001b[0m \u001b[1m1s\u001b[0m 225ms/step\n"
     ]
    },
    {
     "name": "stderr",
     "output_type": "stream",
     "text": [
      "C:\\Users\\Dell\\anaconda3\\Lib\\site-packages\\keras\\src\\layers\\rnn\\rnn.py:200: UserWarning: Do not pass an `input_shape`/`input_dim` argument to a layer. When using Sequential models, prefer using an `Input(shape)` object as the first layer in the model instead.\n",
      "  super().__init__(**kwargs)\n"
     ]
    },
    {
     "name": "stdout",
     "output_type": "stream",
     "text": [
      "\u001b[1m3/3\u001b[0m \u001b[32m━━━━━━━━━━━━━━━━━━━━\u001b[0m\u001b[37m\u001b[0m \u001b[1m1s\u001b[0m 274ms/step\n"
     ]
    },
    {
     "name": "stderr",
     "output_type": "stream",
     "text": [
      "C:\\Users\\Dell\\anaconda3\\Lib\\site-packages\\keras\\src\\layers\\rnn\\rnn.py:200: UserWarning: Do not pass an `input_shape`/`input_dim` argument to a layer. When using Sequential models, prefer using an `Input(shape)` object as the first layer in the model instead.\n",
      "  super().__init__(**kwargs)\n"
     ]
    },
    {
     "name": "stdout",
     "output_type": "stream",
     "text": [
      "\u001b[1m3/3\u001b[0m \u001b[32m━━━━━━━━━━━━━━━━━━━━\u001b[0m\u001b[37m\u001b[0m \u001b[1m1s\u001b[0m 259ms/step\n"
     ]
    },
    {
     "name": "stderr",
     "output_type": "stream",
     "text": [
      "C:\\Users\\Dell\\anaconda3\\Lib\\site-packages\\keras\\src\\layers\\rnn\\rnn.py:200: UserWarning: Do not pass an `input_shape`/`input_dim` argument to a layer. When using Sequential models, prefer using an `Input(shape)` object as the first layer in the model instead.\n",
      "  super().__init__(**kwargs)\n"
     ]
    },
    {
     "name": "stdout",
     "output_type": "stream",
     "text": [
      "\u001b[1m3/3\u001b[0m \u001b[32m━━━━━━━━━━━━━━━━━━━━\u001b[0m\u001b[37m\u001b[0m \u001b[1m1s\u001b[0m 146ms/step\n"
     ]
    },
    {
     "name": "stderr",
     "output_type": "stream",
     "text": [
      "C:\\Users\\Dell\\anaconda3\\Lib\\site-packages\\keras\\src\\layers\\rnn\\rnn.py:200: UserWarning: Do not pass an `input_shape`/`input_dim` argument to a layer. When using Sequential models, prefer using an `Input(shape)` object as the first layer in the model instead.\n",
      "  super().__init__(**kwargs)\n"
     ]
    },
    {
     "name": "stdout",
     "output_type": "stream",
     "text": [
      "\u001b[1m3/3\u001b[0m \u001b[32m━━━━━━━━━━━━━━━━━━━━\u001b[0m\u001b[37m\u001b[0m \u001b[1m1s\u001b[0m 142ms/step\n"
     ]
    },
    {
     "name": "stderr",
     "output_type": "stream",
     "text": [
      "C:\\Users\\Dell\\anaconda3\\Lib\\site-packages\\keras\\src\\layers\\rnn\\rnn.py:200: UserWarning: Do not pass an `input_shape`/`input_dim` argument to a layer. When using Sequential models, prefer using an `Input(shape)` object as the first layer in the model instead.\n",
      "  super().__init__(**kwargs)\n"
     ]
    },
    {
     "name": "stdout",
     "output_type": "stream",
     "text": [
      "\u001b[1m3/3\u001b[0m \u001b[32m━━━━━━━━━━━━━━━━━━━━\u001b[0m\u001b[37m\u001b[0m \u001b[1m1s\u001b[0m 196ms/step\n"
     ]
    },
    {
     "name": "stderr",
     "output_type": "stream",
     "text": [
      "C:\\Users\\Dell\\anaconda3\\Lib\\site-packages\\keras\\src\\layers\\rnn\\rnn.py:200: UserWarning: Do not pass an `input_shape`/`input_dim` argument to a layer. When using Sequential models, prefer using an `Input(shape)` object as the first layer in the model instead.\n",
      "  super().__init__(**kwargs)\n"
     ]
    },
    {
     "name": "stdout",
     "output_type": "stream",
     "text": [
      "\u001b[1m3/3\u001b[0m \u001b[32m━━━━━━━━━━━━━━━━━━━━\u001b[0m\u001b[37m\u001b[0m \u001b[1m1s\u001b[0m 287ms/step\n"
     ]
    },
    {
     "name": "stderr",
     "output_type": "stream",
     "text": [
      "C:\\Users\\Dell\\anaconda3\\Lib\\site-packages\\keras\\src\\layers\\rnn\\rnn.py:200: UserWarning: Do not pass an `input_shape`/`input_dim` argument to a layer. When using Sequential models, prefer using an `Input(shape)` object as the first layer in the model instead.\n",
      "  super().__init__(**kwargs)\n"
     ]
    },
    {
     "name": "stdout",
     "output_type": "stream",
     "text": [
      "\u001b[1m3/3\u001b[0m \u001b[32m━━━━━━━━━━━━━━━━━━━━\u001b[0m\u001b[37m\u001b[0m \u001b[1m3s\u001b[0m 783ms/step\n"
     ]
    },
    {
     "name": "stderr",
     "output_type": "stream",
     "text": [
      "C:\\Users\\Dell\\anaconda3\\Lib\\site-packages\\keras\\src\\layers\\rnn\\rnn.py:200: UserWarning: Do not pass an `input_shape`/`input_dim` argument to a layer. When using Sequential models, prefer using an `Input(shape)` object as the first layer in the model instead.\n",
      "  super().__init__(**kwargs)\n"
     ]
    },
    {
     "name": "stdout",
     "output_type": "stream",
     "text": [
      "\u001b[1m3/3\u001b[0m \u001b[32m━━━━━━━━━━━━━━━━━━━━\u001b[0m\u001b[37m\u001b[0m \u001b[1m1s\u001b[0m 358ms/step\n"
     ]
    },
    {
     "name": "stderr",
     "output_type": "stream",
     "text": [
      "C:\\Users\\Dell\\anaconda3\\Lib\\site-packages\\keras\\src\\layers\\rnn\\rnn.py:200: UserWarning: Do not pass an `input_shape`/`input_dim` argument to a layer. When using Sequential models, prefer using an `Input(shape)` object as the first layer in the model instead.\n",
      "  super().__init__(**kwargs)\n"
     ]
    },
    {
     "name": "stdout",
     "output_type": "stream",
     "text": [
      "\u001b[1m3/3\u001b[0m \u001b[32m━━━━━━━━━━━━━━━━━━━━\u001b[0m\u001b[37m\u001b[0m \u001b[1m1s\u001b[0m 193ms/step\n"
     ]
    },
    {
     "name": "stderr",
     "output_type": "stream",
     "text": [
      "C:\\Users\\Dell\\anaconda3\\Lib\\site-packages\\keras\\src\\layers\\rnn\\rnn.py:200: UserWarning: Do not pass an `input_shape`/`input_dim` argument to a layer. When using Sequential models, prefer using an `Input(shape)` object as the first layer in the model instead.\n",
      "  super().__init__(**kwargs)\n"
     ]
    },
    {
     "name": "stdout",
     "output_type": "stream",
     "text": [
      "\u001b[1m3/3\u001b[0m \u001b[32m━━━━━━━━━━━━━━━━━━━━\u001b[0m\u001b[37m\u001b[0m \u001b[1m1s\u001b[0m 213ms/step\n"
     ]
    },
    {
     "name": "stderr",
     "output_type": "stream",
     "text": [
      "C:\\Users\\Dell\\anaconda3\\Lib\\site-packages\\keras\\src\\layers\\rnn\\rnn.py:200: UserWarning: Do not pass an `input_shape`/`input_dim` argument to a layer. When using Sequential models, prefer using an `Input(shape)` object as the first layer in the model instead.\n",
      "  super().__init__(**kwargs)\n"
     ]
    },
    {
     "name": "stdout",
     "output_type": "stream",
     "text": [
      "\u001b[1m3/3\u001b[0m \u001b[32m━━━━━━━━━━━━━━━━━━━━\u001b[0m\u001b[37m\u001b[0m \u001b[1m1s\u001b[0m 204ms/step\n"
     ]
    },
    {
     "name": "stderr",
     "output_type": "stream",
     "text": [
      "C:\\Users\\Dell\\anaconda3\\Lib\\site-packages\\keras\\src\\layers\\rnn\\rnn.py:200: UserWarning: Do not pass an `input_shape`/`input_dim` argument to a layer. When using Sequential models, prefer using an `Input(shape)` object as the first layer in the model instead.\n",
      "  super().__init__(**kwargs)\n"
     ]
    },
    {
     "name": "stdout",
     "output_type": "stream",
     "text": [
      "\u001b[1m3/3\u001b[0m \u001b[32m━━━━━━━━━━━━━━━━━━━━\u001b[0m\u001b[37m\u001b[0m \u001b[1m1s\u001b[0m 213ms/step\n"
     ]
    },
    {
     "name": "stderr",
     "output_type": "stream",
     "text": [
      "C:\\Users\\Dell\\anaconda3\\Lib\\site-packages\\keras\\src\\layers\\rnn\\rnn.py:200: UserWarning: Do not pass an `input_shape`/`input_dim` argument to a layer. When using Sequential models, prefer using an `Input(shape)` object as the first layer in the model instead.\n",
      "  super().__init__(**kwargs)\n"
     ]
    },
    {
     "name": "stdout",
     "output_type": "stream",
     "text": [
      "\u001b[1m3/3\u001b[0m \u001b[32m━━━━━━━━━━━━━━━━━━━━\u001b[0m\u001b[37m\u001b[0m \u001b[1m1s\u001b[0m 207ms/step\n"
     ]
    },
    {
     "name": "stderr",
     "output_type": "stream",
     "text": [
      "C:\\Users\\Dell\\anaconda3\\Lib\\site-packages\\keras\\src\\layers\\rnn\\rnn.py:200: UserWarning: Do not pass an `input_shape`/`input_dim` argument to a layer. When using Sequential models, prefer using an `Input(shape)` object as the first layer in the model instead.\n",
      "  super().__init__(**kwargs)\n"
     ]
    },
    {
     "name": "stdout",
     "output_type": "stream",
     "text": [
      "\u001b[1m3/3\u001b[0m \u001b[32m━━━━━━━━━━━━━━━━━━━━\u001b[0m\u001b[37m\u001b[0m \u001b[1m1s\u001b[0m 196ms/step\n"
     ]
    },
    {
     "name": "stderr",
     "output_type": "stream",
     "text": [
      "C:\\Users\\Dell\\anaconda3\\Lib\\site-packages\\keras\\src\\layers\\rnn\\rnn.py:200: UserWarning: Do not pass an `input_shape`/`input_dim` argument to a layer. When using Sequential models, prefer using an `Input(shape)` object as the first layer in the model instead.\n",
      "  super().__init__(**kwargs)\n"
     ]
    },
    {
     "name": "stdout",
     "output_type": "stream",
     "text": [
      "\u001b[1m3/3\u001b[0m \u001b[32m━━━━━━━━━━━━━━━━━━━━\u001b[0m\u001b[37m\u001b[0m \u001b[1m1s\u001b[0m 170ms/step\n"
     ]
    },
    {
     "name": "stderr",
     "output_type": "stream",
     "text": [
      "C:\\Users\\Dell\\anaconda3\\Lib\\site-packages\\keras\\src\\layers\\rnn\\rnn.py:200: UserWarning: Do not pass an `input_shape`/`input_dim` argument to a layer. When using Sequential models, prefer using an `Input(shape)` object as the first layer in the model instead.\n",
      "  super().__init__(**kwargs)\n"
     ]
    },
    {
     "name": "stdout",
     "output_type": "stream",
     "text": [
      "\u001b[1m3/3\u001b[0m \u001b[32m━━━━━━━━━━━━━━━━━━━━\u001b[0m\u001b[37m\u001b[0m \u001b[1m1s\u001b[0m 259ms/step\n"
     ]
    },
    {
     "name": "stderr",
     "output_type": "stream",
     "text": [
      "C:\\Users\\Dell\\anaconda3\\Lib\\site-packages\\keras\\src\\layers\\rnn\\rnn.py:200: UserWarning: Do not pass an `input_shape`/`input_dim` argument to a layer. When using Sequential models, prefer using an `Input(shape)` object as the first layer in the model instead.\n",
      "  super().__init__(**kwargs)\n"
     ]
    },
    {
     "name": "stdout",
     "output_type": "stream",
     "text": [
      "\u001b[1m3/3\u001b[0m \u001b[32m━━━━━━━━━━━━━━━━━━━━\u001b[0m\u001b[37m\u001b[0m \u001b[1m1s\u001b[0m 265ms/step\n"
     ]
    },
    {
     "name": "stderr",
     "output_type": "stream",
     "text": [
      "C:\\Users\\Dell\\anaconda3\\Lib\\site-packages\\keras\\src\\layers\\rnn\\rnn.py:200: UserWarning: Do not pass an `input_shape`/`input_dim` argument to a layer. When using Sequential models, prefer using an `Input(shape)` object as the first layer in the model instead.\n",
      "  super().__init__(**kwargs)\n"
     ]
    },
    {
     "name": "stdout",
     "output_type": "stream",
     "text": [
      "\u001b[1m3/3\u001b[0m \u001b[32m━━━━━━━━━━━━━━━━━━━━\u001b[0m\u001b[37m\u001b[0m \u001b[1m1s\u001b[0m 363ms/step\n"
     ]
    },
    {
     "name": "stderr",
     "output_type": "stream",
     "text": [
      "C:\\Users\\Dell\\anaconda3\\Lib\\site-packages\\keras\\src\\layers\\rnn\\rnn.py:200: UserWarning: Do not pass an `input_shape`/`input_dim` argument to a layer. When using Sequential models, prefer using an `Input(shape)` object as the first layer in the model instead.\n",
      "  super().__init__(**kwargs)\n"
     ]
    },
    {
     "name": "stdout",
     "output_type": "stream",
     "text": [
      "\u001b[1m3/3\u001b[0m \u001b[32m━━━━━━━━━━━━━━━━━━━━\u001b[0m\u001b[37m\u001b[0m \u001b[1m2s\u001b[0m 621ms/step\n"
     ]
    },
    {
     "name": "stderr",
     "output_type": "stream",
     "text": [
      "C:\\Users\\Dell\\anaconda3\\Lib\\site-packages\\keras\\src\\layers\\rnn\\rnn.py:200: UserWarning: Do not pass an `input_shape`/`input_dim` argument to a layer. When using Sequential models, prefer using an `Input(shape)` object as the first layer in the model instead.\n",
      "  super().__init__(**kwargs)\n"
     ]
    },
    {
     "name": "stdout",
     "output_type": "stream",
     "text": [
      "\u001b[1m3/3\u001b[0m \u001b[32m━━━━━━━━━━━━━━━━━━━━\u001b[0m\u001b[37m\u001b[0m \u001b[1m1s\u001b[0m 199ms/step\n"
     ]
    },
    {
     "name": "stderr",
     "output_type": "stream",
     "text": [
      "C:\\Users\\Dell\\anaconda3\\Lib\\site-packages\\keras\\src\\layers\\rnn\\rnn.py:200: UserWarning: Do not pass an `input_shape`/`input_dim` argument to a layer. When using Sequential models, prefer using an `Input(shape)` object as the first layer in the model instead.\n",
      "  super().__init__(**kwargs)\n"
     ]
    },
    {
     "name": "stdout",
     "output_type": "stream",
     "text": [
      "\u001b[1m3/3\u001b[0m \u001b[32m━━━━━━━━━━━━━━━━━━━━\u001b[0m\u001b[37m\u001b[0m \u001b[1m1s\u001b[0m 202ms/step\n"
     ]
    },
    {
     "name": "stderr",
     "output_type": "stream",
     "text": [
      "C:\\Users\\Dell\\anaconda3\\Lib\\site-packages\\keras\\src\\layers\\rnn\\rnn.py:200: UserWarning: Do not pass an `input_shape`/`input_dim` argument to a layer. When using Sequential models, prefer using an `Input(shape)` object as the first layer in the model instead.\n",
      "  super().__init__(**kwargs)\n"
     ]
    },
    {
     "name": "stdout",
     "output_type": "stream",
     "text": [
      "\u001b[1m3/3\u001b[0m \u001b[32m━━━━━━━━━━━━━━━━━━━━\u001b[0m\u001b[37m\u001b[0m \u001b[1m1s\u001b[0m 247ms/step\n"
     ]
    }
   ],
   "source": [
    "seq_length = 30\n",
    "train_ratio = 0.8\n",
    "train_size = int(len(df_wide) * train_ratio)\n",
    "\n",
    "metrics_all_states = {}\n",
    "\n",
    "for state in df_wide.columns:\n",
    "    data = scaled_data[state].values\n",
    "    X, y = create_sequences(data, seq_length)\n",
    "    \n",
    "    X_train = X[:train_size - seq_length]\n",
    "    y_train = y[:train_size - seq_length]\n",
    "    X_test = X[train_size - seq_length:]\n",
    "    y_test = y[train_size - seq_length:]\n",
    "    \n",
    "    X_train = X_train.reshape((X_train.shape[0], X_train.shape[1], 1))\n",
    "    X_test = X_test.reshape((X_test.shape[0], X_test.shape[1], 1))\n",
    "    \n",
    "    model = Sequential([\n",
    "        LSTM(64, activation='relu', input_shape=(seq_length, 1)),\n",
    "        Dropout(0.2),\n",
    "        Dense(1)\n",
    "    ])\n",
    "    model.compile(optimizer='adam', loss='mse')\n",
    "    model.fit(X_train, y_train, epochs=20, batch_size=16, verbose=0)\n",
    "    \n",
    "    y_pred = model.predict(X_test).flatten()\n",
    "    \n",
    "    scaler = scalers[state]\n",
    "    y_test_inv = scaler.inverse_transform(y_test.reshape(-1, 1)).flatten()\n",
    "    y_pred_inv = scaler.inverse_transform(y_pred.reshape(-1, 1)).flatten()\n",
    "    \n",
    "    rmse = np.sqrt(mean_squared_error(y_test_inv, y_pred_inv))\n",
    "    mae = mean_absolute_error(y_test_inv, y_pred_inv)\n",
    "    r2 = r2_score(y_test_inv, y_pred_inv)\n",
    "    \n",
    "    metrics_all_states[state] = {'RMSE': rmse, 'MAE': mae, 'R2': r2}\n",
    "    \n",
    "    if state == df_wide.columns[0]:\n",
    "        plt.figure(figsize=(12, 6))\n",
    "        plt.plot(df_wide.index[-len(y_test_inv):], y_test_inv, label='True')\n",
    "        plt.plot(df_wide.index[-len(y_test_inv):], y_pred_inv, label='Predicted')\n",
    "        plt.title(f'LSTM Forecast vs Actual for {state}')\n",
    "        plt.xlabel('Date')\n",
    "        plt.ylabel('Energy Consumption')\n",
    "        plt.legend()\n",
    "        plt.show()\n"
   ]
  },
  {
   "cell_type": "markdown",
   "id": "310a7b09-3015-43f1-878b-b3feaa56feea",
   "metadata": {},
   "source": [
    "## Display Metrics for All States\n"
   ]
  },
  {
   "cell_type": "code",
   "execution_count": 47,
   "id": "c564ede4-99a6-4d16-acd0-9b8d9d6c21e9",
   "metadata": {},
   "outputs": [
    {
     "data": {
      "text/html": [
       "<div>\n",
       "<style scoped>\n",
       "    .dataframe tbody tr th:only-of-type {\n",
       "        vertical-align: middle;\n",
       "    }\n",
       "\n",
       "    .dataframe tbody tr th {\n",
       "        vertical-align: top;\n",
       "    }\n",
       "\n",
       "    .dataframe thead th {\n",
       "        text-align: right;\n",
       "    }\n",
       "</style>\n",
       "<table border=\"1\" class=\"dataframe\">\n",
       "  <thead>\n",
       "    <tr style=\"text-align: right;\">\n",
       "      <th></th>\n",
       "      <th>RMSE</th>\n",
       "      <th>MAE</th>\n",
       "      <th>R2</th>\n",
       "    </tr>\n",
       "  </thead>\n",
       "  <tbody>\n",
       "    <tr>\n",
       "      <th>Andhra Pradesh</th>\n",
       "      <td>14.593984</td>\n",
       "      <td>12.057355</td>\n",
       "      <td>0.168728</td>\n",
       "    </tr>\n",
       "    <tr>\n",
       "      <th>Arunachal Pradesh</th>\n",
       "      <td>0.228562</td>\n",
       "      <td>0.156933</td>\n",
       "      <td>0.033201</td>\n",
       "    </tr>\n",
       "    <tr>\n",
       "      <th>Assam</th>\n",
       "      <td>4.333974</td>\n",
       "      <td>3.343060</td>\n",
       "      <td>0.036367</td>\n",
       "    </tr>\n",
       "    <tr>\n",
       "      <th>Bihar</th>\n",
       "      <td>14.880132</td>\n",
       "      <td>11.511620</td>\n",
       "      <td>0.012613</td>\n",
       "    </tr>\n",
       "    <tr>\n",
       "      <th>Chandigarh</th>\n",
       "      <td>1.245016</td>\n",
       "      <td>0.938731</td>\n",
       "      <td>0.081713</td>\n",
       "    </tr>\n",
       "    <tr>\n",
       "      <th>Chhattisgarh</th>\n",
       "      <td>8.645534</td>\n",
       "      <td>7.293230</td>\n",
       "      <td>0.100069</td>\n",
       "    </tr>\n",
       "    <tr>\n",
       "      <th>DNH</th>\n",
       "      <td>3.894865</td>\n",
       "      <td>2.485136</td>\n",
       "      <td>0.257692</td>\n",
       "    </tr>\n",
       "    <tr>\n",
       "      <th>Delhi</th>\n",
       "      <td>27.507230</td>\n",
       "      <td>21.548238</td>\n",
       "      <td>0.102166</td>\n",
       "    </tr>\n",
       "    <tr>\n",
       "      <th>Goa</th>\n",
       "      <td>1.436188</td>\n",
       "      <td>1.135727</td>\n",
       "      <td>0.200496</td>\n",
       "    </tr>\n",
       "    <tr>\n",
       "      <th>Gujarat</th>\n",
       "      <td>34.128226</td>\n",
       "      <td>25.727188</td>\n",
       "      <td>0.265300</td>\n",
       "    </tr>\n",
       "    <tr>\n",
       "      <th>HP</th>\n",
       "      <td>4.197794</td>\n",
       "      <td>3.037765</td>\n",
       "      <td>0.187191</td>\n",
       "    </tr>\n",
       "    <tr>\n",
       "      <th>Haryana</th>\n",
       "      <td>41.408561</td>\n",
       "      <td>33.535704</td>\n",
       "      <td>0.078838</td>\n",
       "    </tr>\n",
       "    <tr>\n",
       "      <th>J&amp;K</th>\n",
       "      <td>5.741199</td>\n",
       "      <td>4.045037</td>\n",
       "      <td>-0.055622</td>\n",
       "    </tr>\n",
       "    <tr>\n",
       "      <th>Jharkhand</th>\n",
       "      <td>1.768869</td>\n",
       "      <td>1.324665</td>\n",
       "      <td>0.120600</td>\n",
       "    </tr>\n",
       "    <tr>\n",
       "      <th>Karnataka</th>\n",
       "      <td>28.221066</td>\n",
       "      <td>23.411697</td>\n",
       "      <td>0.052626</td>\n",
       "    </tr>\n",
       "    <tr>\n",
       "      <th>Kerala</th>\n",
       "      <td>6.691682</td>\n",
       "      <td>5.575258</td>\n",
       "      <td>0.230540</td>\n",
       "    </tr>\n",
       "    <tr>\n",
       "      <th>MP</th>\n",
       "      <td>30.925779</td>\n",
       "      <td>24.813390</td>\n",
       "      <td>-0.043848</td>\n",
       "    </tr>\n",
       "    <tr>\n",
       "      <th>Maharashtra</th>\n",
       "      <td>39.381392</td>\n",
       "      <td>32.100949</td>\n",
       "      <td>0.172302</td>\n",
       "    </tr>\n",
       "    <tr>\n",
       "      <th>Manipur</th>\n",
       "      <td>0.202066</td>\n",
       "      <td>0.166133</td>\n",
       "      <td>-0.022638</td>\n",
       "    </tr>\n",
       "    <tr>\n",
       "      <th>Meghalaya</th>\n",
       "      <td>0.717198</td>\n",
       "      <td>0.552487</td>\n",
       "      <td>0.166817</td>\n",
       "    </tr>\n",
       "    <tr>\n",
       "      <th>Mizoram</th>\n",
       "      <td>0.155835</td>\n",
       "      <td>0.116600</td>\n",
       "      <td>0.014084</td>\n",
       "    </tr>\n",
       "    <tr>\n",
       "      <th>Nagaland</th>\n",
       "      <td>0.135744</td>\n",
       "      <td>0.107326</td>\n",
       "      <td>-0.007497</td>\n",
       "    </tr>\n",
       "    <tr>\n",
       "      <th>Odisha</th>\n",
       "      <td>10.542157</td>\n",
       "      <td>8.035084</td>\n",
       "      <td>0.040523</td>\n",
       "    </tr>\n",
       "    <tr>\n",
       "      <th>Pondy</th>\n",
       "      <td>1.076384</td>\n",
       "      <td>0.858782</td>\n",
       "      <td>0.188756</td>\n",
       "    </tr>\n",
       "    <tr>\n",
       "      <th>Punjab</th>\n",
       "      <td>59.052954</td>\n",
       "      <td>44.903640</td>\n",
       "      <td>0.153586</td>\n",
       "    </tr>\n",
       "    <tr>\n",
       "      <th>Rajasthan</th>\n",
       "      <td>25.545255</td>\n",
       "      <td>20.100712</td>\n",
       "      <td>0.156117</td>\n",
       "    </tr>\n",
       "    <tr>\n",
       "      <th>Sikkim</th>\n",
       "      <td>0.343274</td>\n",
       "      <td>0.254690</td>\n",
       "      <td>-0.071775</td>\n",
       "    </tr>\n",
       "    <tr>\n",
       "      <th>Tamil Nadu</th>\n",
       "      <td>33.233562</td>\n",
       "      <td>28.354407</td>\n",
       "      <td>0.219627</td>\n",
       "    </tr>\n",
       "    <tr>\n",
       "      <th>Telangana</th>\n",
       "      <td>25.041917</td>\n",
       "      <td>20.242296</td>\n",
       "      <td>-0.009888</td>\n",
       "    </tr>\n",
       "    <tr>\n",
       "      <th>Tripura</th>\n",
       "      <td>0.643516</td>\n",
       "      <td>0.528241</td>\n",
       "      <td>0.082526</td>\n",
       "    </tr>\n",
       "    <tr>\n",
       "      <th>UP</th>\n",
       "      <td>63.958864</td>\n",
       "      <td>48.860562</td>\n",
       "      <td>0.143186</td>\n",
       "    </tr>\n",
       "    <tr>\n",
       "      <th>Uttarakhand</th>\n",
       "      <td>6.272869</td>\n",
       "      <td>4.781571</td>\n",
       "      <td>0.165476</td>\n",
       "    </tr>\n",
       "    <tr>\n",
       "      <th>West Bengal</th>\n",
       "      <td>25.497509</td>\n",
       "      <td>21.539449</td>\n",
       "      <td>0.052849</td>\n",
       "    </tr>\n",
       "  </tbody>\n",
       "</table>\n",
       "</div>"
      ],
      "text/plain": [
       "                        RMSE        MAE        R2\n",
       "Andhra Pradesh     14.593984  12.057355  0.168728\n",
       "Arunachal Pradesh   0.228562   0.156933  0.033201\n",
       "Assam               4.333974   3.343060  0.036367\n",
       "Bihar              14.880132  11.511620  0.012613\n",
       "Chandigarh          1.245016   0.938731  0.081713\n",
       "Chhattisgarh        8.645534   7.293230  0.100069\n",
       "DNH                 3.894865   2.485136  0.257692\n",
       "Delhi              27.507230  21.548238  0.102166\n",
       "Goa                 1.436188   1.135727  0.200496\n",
       "Gujarat            34.128226  25.727188  0.265300\n",
       "HP                  4.197794   3.037765  0.187191\n",
       "Haryana            41.408561  33.535704  0.078838\n",
       "J&K                 5.741199   4.045037 -0.055622\n",
       "Jharkhand           1.768869   1.324665  0.120600\n",
       "Karnataka          28.221066  23.411697  0.052626\n",
       "Kerala              6.691682   5.575258  0.230540\n",
       "MP                 30.925779  24.813390 -0.043848\n",
       "Maharashtra        39.381392  32.100949  0.172302\n",
       "Manipur             0.202066   0.166133 -0.022638\n",
       "Meghalaya           0.717198   0.552487  0.166817\n",
       "Mizoram             0.155835   0.116600  0.014084\n",
       "Nagaland            0.135744   0.107326 -0.007497\n",
       "Odisha             10.542157   8.035084  0.040523\n",
       "Pondy               1.076384   0.858782  0.188756\n",
       "Punjab             59.052954  44.903640  0.153586\n",
       "Rajasthan          25.545255  20.100712  0.156117\n",
       "Sikkim              0.343274   0.254690 -0.071775\n",
       "Tamil Nadu         33.233562  28.354407  0.219627\n",
       "Telangana          25.041917  20.242296 -0.009888\n",
       "Tripura             0.643516   0.528241  0.082526\n",
       "UP                 63.958864  48.860562  0.143186\n",
       "Uttarakhand         6.272869   4.781571  0.165476\n",
       "West Bengal        25.497509  21.539449  0.052849"
      ]
     },
     "execution_count": 47,
     "metadata": {},
     "output_type": "execute_result"
    }
   ],
   "source": [
    "lstm_metrics_df = pd.DataFrame(metrics_all_states).T\n",
    "lstm_metrics_df\n"
   ]
  },
  {
   "cell_type": "code",
   "execution_count": 49,
   "id": "bac7ff90-1391-4353-b723-81603d76f286",
   "metadata": {},
   "outputs": [],
   "source": [
    "lstm_metrics_df.to_csv(\"lstm_metrics_summary.csv\", index=True)"
   ]
  },
  {
   "cell_type": "code",
   "execution_count": null,
   "id": "58b9b473-601a-46db-8efb-264c7647af48",
   "metadata": {},
   "outputs": [],
   "source": []
  }
 ],
 "metadata": {
  "kernelspec": {
   "display_name": "Python [conda env:base] *",
   "language": "python",
   "name": "conda-base-py"
  },
  "language_info": {
   "codemirror_mode": {
    "name": "ipython",
    "version": 3
   },
   "file_extension": ".py",
   "mimetype": "text/x-python",
   "name": "python",
   "nbconvert_exporter": "python",
   "pygments_lexer": "ipython3",
   "version": "3.12.7"
  }
 },
 "nbformat": 4,
 "nbformat_minor": 5
}
